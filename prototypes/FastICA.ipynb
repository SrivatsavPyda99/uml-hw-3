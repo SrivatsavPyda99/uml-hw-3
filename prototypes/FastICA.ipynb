{
 "cells": [
  {
   "cell_type": "markdown",
   "metadata": {},
   "source": [
    "# Environment"
   ]
  },
  {
   "cell_type": "code",
   "execution_count": 4,
   "metadata": {
    "collapsed": false
   },
   "outputs": [],
   "source": [
    "from __future__ import print_function, division\n",
    "import os\n",
    "import pandas as pd\n",
    "import numpy as np\n",
    "import matplotlib.pyplot as plt\n",
    "import scipy.io.wavfile\n",
    "\n",
    "from scipy.stats import bernoulli\n",
    "from scipy.stats import beta as bt\n",
    "from scipy.stats import dirichlet\n",
    "from scipy.special import digamma\n",
    "from scipy.stats import loggamma \n",
    "from scipy.stats import expon\n",
    "from scipy.cluster.vq import whiten\n",
    "\n",
    "import time\n",
    "\n",
    "import random\n",
    "\n",
    "import wave"
   ]
  },
  {
   "cell_type": "code",
   "execution_count": 5,
   "metadata": {
    "collapsed": true
   },
   "outputs": [],
   "source": [
    "'''\n",
    "data_paths = [[\"/Users/srivatsavpyda/Desktop/Unsupervised Learning/Homework_3/data/mixed_sound_dataset/dataset1/rsm2_mB.wav\", \n",
    "        \"/Users/srivatsavpyda/Desktop/Unsupervised Learning/Homework_3/data/mixed_sound_dataset/dataset1/rsm2_mA.wav\"],\n",
    "       [\"/Users/srivatsavpyda/Desktop/Unsupervised Learning/Homework_3/data/mixed_sound_dataset/dataset2/rss_mB.wav\",\n",
    "       \"/Users/srivatsavpyda/Desktop/Unsupervised Learning/Homework_3/data/mixed_sound_dataset/dataset2/rss_mA.wav\"],\n",
    "       [\"/Users/srivatsavpyda/Desktop/Unsupervised Learning/Homework_3/data/mixed_sound_dataset/dataset3/rssd_B.wav\",\n",
    "       \"/Users/srivatsavpyda/Desktop/Unsupervised Learning/Homework_3/data/mixed_sound_dataset/dataset3/rssd_A.wav\"]]\n",
    "'''\n",
    "\n",
    "\n",
    "data_paths = [[\"C:\\\\Users\\\\Srivatsav\\\\Desktop\\\\Unsupervised_Learning\\\\uml-hw-3\\\\data\\\\mixed_sound_dataset\\\\dataset1\\\\rsm2_mB.wav\", \n",
    "        \"C:\\\\Users\\\\Srivatsav\\\\Desktop\\\\Unsupervised_Learning\\\\uml-hw-3\\\\data\\\\mixed_sound_dataset\\\\dataset1\\\\rsm2_mA.wav\"],\n",
    "       [\"C:\\\\Users\\\\Srivatsav\\\\Desktop\\\\Unsupervised_Learning\\\\uml-hw-3\\\\data\\\\mixed_sound_dataset\\\\dataset2\\\\rss_mB.wav\",\n",
    "       \"C:\\\\Users\\\\Srivatsav\\\\Desktop\\\\Unsupervised_Learning\\\\uml-hw-3\\\\data\\\\mixed_sound_dataset\\\\dataset2\\\\rss_mA.wav\"],\n",
    "       [\"C:\\\\Users\\\\Srivatsav\\\\Desktop\\\\Unsupervised_Learning\\\\uml-hw-3\\\\data\\\\mixed_sound_dataset\\\\dataset3\\\\rssd_B.wav\",\n",
    "       \"C:\\\\Users\\\\Srivatsav\\\\Desktop\\\\Unsupervised_Learning\\\\uml-hw-3\\\\data\\\\mixed_sound_dataset\\\\dataset3\\\\rssd_A.wav\"]]\n",
    "\n",
    "\n",
    "data_paths = np.array(data_paths)"
   ]
  },
  {
   "cell_type": "markdown",
   "metadata": {},
   "source": [
    "# Functions"
   ]
  },
  {
   "cell_type": "markdown",
   "metadata": {},
   "source": [
    "## Audio Write Functions"
   ]
  },
  {
   "cell_type": "code",
   "execution_count": 388,
   "metadata": {
    "collapsed": true
   },
   "outputs": [],
   "source": [
    "scipy.io.wavfile.write(\"testout.wav\", rates[0], scipy.io.wavfile.read(data_paths[0,0])[1])"
   ]
  },
  {
   "cell_type": "code",
   "execution_count": 351,
   "metadata": {
    "collapsed": true
   },
   "outputs": [],
   "source": [
    "def write_to_audio(w, x, rates):\n",
    "    \n",
    "    for i in range(w.shape[0]):\n",
    "        out = w[i,:].dot(x)\n",
    "        print(np.max(out))\n",
    "        print(np.min(out))\n",
    "        st = \"out%d.wav\" % i\n",
    "        scipy.io.wavfile.write(st, rates[i], out)"
   ]
  },
  {
   "cell_type": "markdown",
   "metadata": {},
   "source": [
    "## Negentropy Functions"
   ]
  },
  {
   "cell_type": "code",
   "execution_count": 83,
   "metadata": {
    "collapsed": true
   },
   "outputs": [],
   "source": [
    "def g_1(u):\n",
    "    a_1 = 1\n",
    "    u_cosh = np.cosh(a_1 * u)\n",
    "    u_log = np.log(u_cosh)\n",
    "    final = (1/a_1) * u_log\n",
    "    return final\n",
    "def g_1_derivative(u):\n",
    "    a_1 = 1\n",
    "    return np.tanh(a_1 * u)"
   ]
  },
  {
   "cell_type": "code",
   "execution_count": 84,
   "metadata": {
    "collapsed": true
   },
   "outputs": [],
   "source": [
    "def g_2(u):\n",
    "    return -1 * np.exp(-1 * (u * u) / 2)\n",
    "def g_2_derivative(u):\n",
    "    return u * np.exp(-1 * (u * u) / 2)"
   ]
  },
  {
   "cell_type": "markdown",
   "metadata": {},
   "source": [
    "## Update Functions"
   ]
  },
  {
   "cell_type": "code",
   "execution_count": 218,
   "metadata": {
    "collapsed": true
   },
   "outputs": [],
   "source": [
    "def g_1_expectation(w, x, t, sample_size):\n",
    "    indices = random.sample(range(t), sample_size)\n",
    "    #print(\"wdotx\")\n",
    "    #print(w.dot(x[:,indices]))\n",
    "    x_analyzed = x[:,indices]\n",
    "    g_1_value = g_1(w.dot(x[:,indices]))\n",
    "    new_indices = np.isfinite(g_1_value)\n",
    "    g_1_value = g_1_value[new_indices]\n",
    "    x_analyzed = x_analyzed[:,new_indices]\n",
    "    \n",
    "    values = x_analyzed * g_1_value\n",
    "    #values = values[:, np.isfinite(values).all(axis=0)]\n",
    "    #print(\"g1val\")\n",
    "    #print(g_1_value[:10])\n",
    "    #print(\"xval\")\n",
    "    #print(x_analyzed[:,:10])\n",
    "    #print(\"vals\")\n",
    "    #print(values[:,:10])\n",
    "    #values_sum = np.sum(values, axis=1)\n",
    "    #values_mean = values_sum / sample_size\n",
    "    values_mean = np.mean(values, axis=1, dtype=np.float64)\n",
    "    #print(\"meanval\")\n",
    "    #print(values_mean)\n",
    "    #print(values_mean)\n",
    "    return values_mean"
   ]
  },
  {
   "cell_type": "code",
   "execution_count": 145,
   "metadata": {
    "collapsed": false
   },
   "outputs": [
    {
     "name": "stdout",
     "output_type": "stream",
     "text": [
      "[[1]\n",
      " [2]]\n"
     ]
    }
   ],
   "source": [
    "a = np.array([[ 5, 1 ,3], \n",
    "                  [ 1, 1 ,1]])\n",
    "b = np.array([1, 2])\n",
    "print(b[np.newaxis,:].T)\n",
    "#print(a / np.linalg.norm(a, axis=1)[np.newaxis,:].T)\n",
    "#print(a[0,1] / np.linalg.norm(a, axis=1)[np.newaxis,:].T[1,0])\n",
    "#print(b.dot(a))\n",
    "#print(b[np.newaxis, :].T - b[np.newaxis, :].T * a)"
   ]
  },
  {
   "cell_type": "code",
   "execution_count": 212,
   "metadata": {
    "collapsed": true
   },
   "outputs": [],
   "source": [
    "def g_1_derivative_expectation(w, x, t, sample_size):\n",
    "    indices = random.sample(range(t), sample_size)\n",
    "    w_dot_x = w.dot(x[:,indices])\n",
    "    values = g_1_derivative(w_dot_x)\n",
    "    #final_value = np.mean(values, axis=1)\n",
    "    final_value = np.mean(values)\n",
    "    #print(final_value)\n",
    "    return final_value"
   ]
  },
  {
   "cell_type": "code",
   "execution_count": 147,
   "metadata": {
    "collapsed": true
   },
   "outputs": [],
   "source": [
    "def normalizer(w):\n",
    "    w = w / np.sqrt(np.linalg.norm(np.dot(w, w.T)))\n",
    "    return w"
   ]
  },
  {
   "cell_type": "code",
   "execution_count": 148,
   "metadata": {
    "collapsed": true
   },
   "outputs": [],
   "source": [
    "def decorellater(w, threshold):\n",
    "    w_old = 0\n",
    "    w_new = w\n",
    "    while(np.linalg.norm(w_new - w_old) > threshold):\n",
    "        w_old = w_new\n",
    "        w_new = 3/2 * w - 1/2 * (w.dot(w.T.dot(w)))\n",
    "        \n",
    "    return w_new"
   ]
  },
  {
   "cell_type": "code",
   "execution_count": 149,
   "metadata": {
    "collapsed": true
   },
   "outputs": [],
   "source": [
    "def iterative_normalizer(w):\n",
    "    for i in range(w.shape[0]):\n",
    "        total = np.zeros((w.shape[1]))\n",
    "        cur_row = w[i,:]\n",
    "        for j in range(i):\n",
    "            iter_row = w[j,:]\n",
    "            it = np.outer(cur_row, iter_row)\n",
    "            print(it)\n",
    "            it = it.dot(iter_row)\n",
    "            print(it)\n",
    "            total = total + it\n",
    "            #total = total + cur_row[np.newaxis,:].T.dot(w[j,:]).dot(w[j,:])\n",
    "\n",
    "        w[i,:] = w[i,:] - total\n",
    "        w[i,:] = w[i,:]/np.sqrt(w[i,:].T.dot(w[i,:]))\n",
    "    return w"
   ]
  },
  {
   "cell_type": "code",
   "execution_count": 246,
   "metadata": {
    "collapsed": true
   },
   "outputs": [],
   "source": [
    "def single_update(w, x, t, sample_size):\n",
    "    g_exp = g_1_expectation(w, x, t, sample_size)\n",
    "    g_der_exp = g_1_derivative_expectation(w, x, t, sample_size)\n",
    "    return g_exp - (g_der_exp * w)"
   ]
  },
  {
   "cell_type": "code",
   "execution_count": 359,
   "metadata": {
    "collapsed": true
   },
   "outputs": [],
   "source": [
    "def update_w(i, w, x, t, sample_size):\n",
    "    #for i in range(w.shape[0]):\n",
    "    w[i,:] = single_update(w[i,:], x, t, sample_size)\n",
    "    total = np.zeros((w.shape[1]))\n",
    "    #print(w)\n",
    "\n",
    "    for j in range(i):\n",
    "        it = np.outer(w[i,:], w[j,:])\n",
    "        it = it.dot(w[j,:])\n",
    "        total = total + it\n",
    "    w[i,:] = w[i,:] - total\n",
    "\n",
    "    #print(w)\n",
    "    w[i,:] = w[i,:]/np.linalg.norm(w[i,:])\n",
    "    #print(w)\n",
    "        \n",
    "    \n",
    "    \n",
    "    '''\n",
    "    print(\"w\")\n",
    "    print(w)\n",
    "    g_exp = g_1_expectation(w, x, t, sample_size)\n",
    "    g_der_exp = g_1_derivative_expectation(w, x, t, sample_size)\n",
    "    print(\"exp\")\n",
    "    print(g_der_exp)\n",
    "    w_new = g_exp[np.newaxis,:].T - g_der_exp[np.newaxis,:].T * w\n",
    "    print(\"prenorm\")\n",
    "    print(w_new)\n",
    "    #w_new = w_new / np.linalg.norm(w_new, axis=1)[np.newaxis,:].T\n",
    "    w_new = normalizer(w_new)\n",
    "    print(\"postnorm\")\n",
    "    print(w_new)\n",
    "    w_new = decorellater(w_new, 0.01)\n",
    "    print(\"postdecor\")\n",
    "    print(w_new)\n",
    "    #w_new = iterative_normalizer(w_new)\n",
    "    '''\n",
    "    return w"
   ]
  },
  {
   "cell_type": "markdown",
   "metadata": {},
   "source": [
    "# Convergence Measures"
   ]
  },
  {
   "cell_type": "code",
   "execution_count": 358,
   "metadata": {
    "collapsed": true
   },
   "outputs": [],
   "source": [
    "def w_has_converged(i, w, w_new, threshold):\n",
    "    s = w[i,:].dot(w_new[i,:])\n",
    "    s_1 = np.absolute(1-s)\n",
    "    if s_1 < threshold:\n",
    "        return s_1, s, True\n",
    "    return s_1, s, False\n",
    "    \n",
    "    #for i in range(w.shape[0]):\n",
    "    #    s = s + w[i,:].dot(w_new[i,:])\n",
    "    #sum_altered = np.absolute(1-s)\n",
    "    #if sum_altered <= threshold:\n",
    "    #    return sum_altered, s, True\n",
    "    #return sum_altered, s, False"
   ]
  },
  {
   "cell_type": "markdown",
   "metadata": {},
   "source": [
    "# Data Preparation"
   ]
  },
  {
   "cell_type": "markdown",
   "metadata": {},
   "source": [
    "## Hyperparameters"
   ]
  },
  {
   "cell_type": "code",
   "execution_count": 378,
   "metadata": {
    "collapsed": true
   },
   "outputs": [],
   "source": [
    "sample_size = 10000\n",
    "n = 2\n",
    "d = 2\n",
    "threshold = 0.01"
   ]
  },
  {
   "cell_type": "markdown",
   "metadata": {},
   "source": [
    "## Data Loading"
   ]
  },
  {
   "cell_type": "code",
   "execution_count": 379,
   "metadata": {
    "collapsed": true
   },
   "outputs": [],
   "source": [
    "def center(z):\n",
    "    return z / np.mean(z)"
   ]
  },
  {
   "cell_type": "code",
   "execution_count": 380,
   "metadata": {
    "collapsed": true
   },
   "outputs": [],
   "source": [
    "current_sample = 0\n",
    "rates = []\n",
    "data = []\n",
    "for i in range(n):\n",
    "    rate, dat = scipy.io.wavfile.read(data_paths[current_sample,i])\n",
    "    rates.append(rate)\n",
    "    \n",
    "    dat = center(dat)\n",
    "    data.append(dat)"
   ]
  },
  {
   "cell_type": "markdown",
   "metadata": {},
   "source": [
    "## Variables"
   ]
  },
  {
   "cell_type": "code",
   "execution_count": 381,
   "metadata": {
    "collapsed": true
   },
   "outputs": [],
   "source": [
    "t = data[0].shape[0]\n",
    "x = np.zeros((n, t))\n",
    "                                              \n",
    "for i in range(n):\n",
    "    x[i,:] = data[i]\n",
    "    \n",
    "x = whiten(x)\n",
    "    \n",
    "w = np.random.rand(n, d)"
   ]
  },
  {
   "cell_type": "code",
   "execution_count": 382,
   "metadata": {
    "collapsed": false
   },
   "outputs": [],
   "source": [
    "#w_new = update_w(w, x, t, sample_size)"
   ]
  },
  {
   "cell_type": "code",
   "execution_count": 383,
   "metadata": {
    "collapsed": false
   },
   "outputs": [],
   "source": [
    "#w"
   ]
  },
  {
   "cell_type": "code",
   "execution_count": 384,
   "metadata": {
    "collapsed": false
   },
   "outputs": [],
   "source": [
    "#w_new"
   ]
  },
  {
   "cell_type": "markdown",
   "metadata": {},
   "source": [
    "### Data Visualization"
   ]
  },
  {
   "cell_type": "code",
   "execution_count": 385,
   "metadata": {
    "collapsed": false
   },
   "outputs": [
    {
     "name": "stdout",
     "output_type": "stream",
     "text": [
      "here\n"
     ]
    }
   ],
   "source": [
    "print(\"here\")\n",
    "time = 10\n",
    "\n",
    "#plt.figure(figsize=[8,6], dpi=150)\n",
    "#plt.plot(range(time), x[0, :time])\n",
    "#plt.ylabel(\"Signal\")\n",
    "#plt.xlabel(\"Time\")\n",
    "#plt.title(\"Signal Over Time\")\n",
    "#plt.show()"
   ]
  },
  {
   "cell_type": "markdown",
   "metadata": {},
   "source": [
    "# Iterative Loop"
   ]
  },
  {
   "cell_type": "code",
   "execution_count": 386,
   "metadata": {
    "collapsed": true
   },
   "outputs": [],
   "source": [
    "w_record = []\n",
    "dot_product_record = []\n",
    "loss_record = []"
   ]
  },
  {
   "cell_type": "code",
   "execution_count": 387,
   "metadata": {
    "collapsed": false
   },
   "outputs": [
    {
     "name": "stdout",
     "output_type": "stream",
     "text": [
      "here\n",
      "[[ 0.7036251   0.7105714 ]\n",
      " [ 0.27137632  0.4337221 ]]\n",
      "[[ 0.7036251   0.7105714 ]\n",
      " [ 0.27137632  0.4337221 ]]\n",
      "here\n",
      "[[ 0.7036251   0.7105714 ]\n",
      " [-0.70710678 -0.70710678]]\n",
      "[[ 0.7036251   0.7105714 ]\n",
      " [-0.70710678 -0.70710678]]\n"
     ]
    }
   ],
   "source": [
    "for i in range(n):\n",
    "    j=1\n",
    "    while(True):\n",
    "        if j % 10 == 0:\n",
    "            print(\"Iteration %d is starting\" % j)\n",
    "            print(w)\n",
    "\n",
    "        w_new = update_w(i, w, x, t, sample_size)\n",
    "        #print(w_new)\n",
    "\n",
    "        loss, dot_product, has_converged = w_has_converged(i, w, w_new, threshold)\n",
    "\n",
    "        if has_converged:\n",
    "            print(\"here\")\n",
    "            print(w)\n",
    "            print(w_new)\n",
    "            break\n",
    "            \n",
    "        w = w_new\n",
    "        w_record.append(w)\n",
    "        loss_record.append(loss)\n",
    "        dot_product_record.append(dot_product)\n",
    "        j = j + 1"
   ]
  },
  {
   "cell_type": "markdown",
   "metadata": {
    "collapsed": false
   },
   "source": [
    "# Evaluation"
   ]
  },
  {
   "cell_type": "code",
   "execution_count": 352,
   "metadata": {
    "collapsed": false
   },
   "outputs": [
    {
     "name": "stdout",
     "output_type": "stream",
     "text": [
      "801144.021573\n",
      "-365514.816133\n",
      "346760.003986\n",
      "-760038.191305\n"
     ]
    }
   ],
   "source": [
    "w = np.array([[-0.70986198, -0.7043408 ]\n",
    " ,[ 0.89442719,  0.4472136 ]])\n",
    "write_to_audio(w, x, rates)"
   ]
  },
  {
   "cell_type": "code",
   "execution_count": null,
   "metadata": {
    "collapsed": false
   },
   "outputs": [],
   "source": [
    "plt.figure(figsize=[8,6], dpi=150)\n",
    "plt.plot(range(len(dot_product_record)), dot_product_record)\n",
    "plt.ylabel(\"Signal\")\n",
    "plt.xlabel(\"Time\")\n",
    "plt.title(\"Signal Over Time\")\n",
    "plt.show()"
   ]
  },
  {
   "cell_type": "code",
   "execution_count": null,
   "metadata": {
    "collapsed": false
   },
   "outputs": [],
   "source": [
    "print(dot_product_record[:100])"
   ]
  },
  {
   "cell_type": "code",
   "execution_count": 57,
   "metadata": {
    "collapsed": false
   },
   "outputs": [
    {
     "name": "stdout",
     "output_type": "stream",
     "text": [
      "(2L, 1L)\n",
      "(1L, 2L)\n"
     ]
    }
   ],
   "source": [
    "x = np.array([[1], [2]])\n",
    "y = np.array([[3, 4]])\n",
    "print(x.shape)\n",
    "print(y.shape)"
   ]
  },
  {
   "cell_type": "code",
   "execution_count": 56,
   "metadata": {
    "collapsed": false
   },
   "outputs": [
    {
     "data": {
      "text/plain": [
       "array([[3, 4],\n",
       "       [6, 8]])"
      ]
     },
     "execution_count": 56,
     "metadata": {},
     "output_type": "execute_result"
    }
   ],
   "source": [
    "np.dot(np.array([[1], [2]]), np.array([[3, 4]]))"
   ]
  },
  {
   "cell_type": "code",
   "execution_count": 45,
   "metadata": {
    "collapsed": false
   },
   "outputs": [
    {
     "data": {
      "text/plain": [
       "array([[0, 1],\n",
       "       [5, 2]])"
      ]
     },
     "execution_count": 45,
     "metadata": {},
     "output_type": "execute_result"
    }
   ],
   "source": [
    "x = "
   ]
  },
  {
   "cell_type": "code",
   "execution_count": 46,
   "metadata": {
    "collapsed": false
   },
   "outputs": [
    {
     "data": {
      "text/plain": [
       "array([[0, 5],\n",
       "       [1, 2]])"
      ]
     },
     "execution_count": 46,
     "metadata": {},
     "output_type": "execute_result"
    }
   ],
   "source": [
    "x.T"
   ]
  },
  {
   "cell_type": "code",
   "execution_count": 38,
   "metadata": {
    "collapsed": false
   },
   "outputs": [
    {
     "data": {
      "text/plain": [
       "array([0, 1])"
      ]
     },
     "execution_count": 38,
     "metadata": {},
     "output_type": "execute_result"
    }
   ],
   "source": [
    "np.transpose(x)"
   ]
  },
  {
   "cell_type": "code",
   "execution_count": 26,
   "metadata": {
    "collapsed": false
   },
   "outputs": [
    {
     "data": {
      "text/plain": [
       "-inf"
      ]
     },
     "execution_count": 26,
     "metadata": {},
     "output_type": "execute_result"
    }
   ],
   "source": [
    "np.log(0)"
   ]
  },
  {
   "cell_type": "code",
   "execution_count": 185,
   "metadata": {
    "collapsed": false
   },
   "outputs": [],
   "source": [
    "a = np.array([[2,3], [4,5]])"
   ]
  },
  {
   "cell_type": "code",
   "execution_count": 186,
   "metadata": {
    "collapsed": false
   },
   "outputs": [],
   "source": [
    "b = np.array([1, 2])"
   ]
  },
  {
   "cell_type": "code",
   "execution_count": 187,
   "metadata": {
    "collapsed": false
   },
   "outputs": [
    {
     "name": "stdout",
     "output_type": "stream",
     "text": [
      "[[2 3]\n",
      " [4 5]]\n"
     ]
    }
   ],
   "source": [
    "print(a)"
   ]
  },
  {
   "cell_type": "code",
   "execution_count": 188,
   "metadata": {
    "collapsed": false
   },
   "outputs": [
    {
     "name": "stdout",
     "output_type": "stream",
     "text": [
      "[1 2]\n"
     ]
    }
   ],
   "source": [
    "print(b)"
   ]
  },
  {
   "cell_type": "code",
   "execution_count": 189,
   "metadata": {
    "collapsed": false
   },
   "outputs": [
    {
     "data": {
      "text/plain": [
       "array([[ 2,  6],\n",
       "       [ 4, 10]])"
      ]
     },
     "execution_count": 189,
     "metadata": {},
     "output_type": "execute_result"
    }
   ],
   "source": [
    "a * b"
   ]
  },
  {
   "cell_type": "code",
   "execution_count": 190,
   "metadata": {
    "collapsed": false
   },
   "outputs": [
    {
     "data": {
      "text/plain": [
       "array([ 8, 14])"
      ]
     },
     "execution_count": 190,
     "metadata": {},
     "output_type": "execute_result"
    }
   ],
   "source": [
    "a.dot(b)"
   ]
  },
  {
   "cell_type": "code",
   "execution_count": null,
   "metadata": {
    "collapsed": true
   },
   "outputs": [],
   "source": []
  }
 ],
 "metadata": {
  "kernelspec": {
   "display_name": "Python 2",
   "language": "python",
   "name": "python2"
  },
  "language_info": {
   "codemirror_mode": {
    "name": "ipython",
    "version": 2
   },
   "file_extension": ".py",
   "mimetype": "text/x-python",
   "name": "python",
   "nbconvert_exporter": "python",
   "pygments_lexer": "ipython2",
   "version": "2.7.13"
  }
 },
 "nbformat": 4,
 "nbformat_minor": 2
}
