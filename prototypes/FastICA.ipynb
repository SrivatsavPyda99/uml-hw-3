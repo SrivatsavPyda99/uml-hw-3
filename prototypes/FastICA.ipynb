{
 "cells": [
  {
   "cell_type": "markdown",
   "metadata": {},
   "source": [
    "# Environment"
   ]
  },
  {
   "cell_type": "code",
   "execution_count": 26,
   "metadata": {},
   "outputs": [],
   "source": [
    "from __future__ import print_function, division\n",
    "import os\n",
    "import pandas as pd\n",
    "from skimage import io, transform\n",
    "import numpy as np\n",
    "import matplotlib.pyplot as plt\n",
    "import scipy.io.wavfile\n",
    "\n",
    "from scipy.stats import bernoulli\n",
    "from scipy.stats import beta as bt\n",
    "from scipy.stats import dirichlet\n",
    "from scipy.special import digamma\n",
    "from scipy.stats import loggamma \n",
    "from scipy.stats import expon\n",
    "from scipy.cluster.vq import whiten\n",
    "\n",
    "import time\n",
    "\n",
    "import random"
   ]
  },
  {
   "cell_type": "code",
   "execution_count": 176,
   "metadata": {},
   "outputs": [],
   "source": [
    "data_paths = [[\"/Users/srivatsavpyda/Desktop/Unsupervised Learning/Homework_3/data/mixed_sound_dataset/dataset1/rsm2_mB.wav\", \n",
    "        \"/Users/srivatsavpyda/Desktop/Unsupervised Learning/Homework_3/data/mixed_sound_dataset/dataset1/rsm2_mA.wav\"],\n",
    "       [\"/Users/srivatsavpyda/Desktop/Unsupervised Learning/Homework_3/data/mixed_sound_dataset/dataset2/rss_mB.wav\",\n",
    "       \"/Users/srivatsavpyda/Desktop/Unsupervised Learning/Homework_3/data/mixed_sound_dataset/dataset2/rss_mA.wav\"],\n",
    "       [\"/Users/srivatsavpyda/Desktop/Unsupervised Learning/Homework_3/data/mixed_sound_dataset/dataset3/rssd_B.wav\",\n",
    "       \"/Users/srivatsavpyda/Desktop/Unsupervised Learning/Homework_3/data/mixed_sound_dataset/dataset3/rssd_A.wav\"]]\n",
    "\n",
    "data_paths = np.array(data_paths)"
   ]
  },
  {
   "cell_type": "markdown",
   "metadata": {},
   "source": [
    "# Functions"
   ]
  },
  {
   "cell_type": "markdown",
   "metadata": {},
   "source": [
    "## Negentropy Functions"
   ]
  },
  {
   "cell_type": "code",
   "execution_count": 177,
   "metadata": {},
   "outputs": [],
   "source": [
    "def g_1(u):\n",
    "    a_1 = 1\n",
    "    u_cosh = np.cosh(a_1 * u)\n",
    "    u_log = np.log(u_cosh)\n",
    "    final = (1/a_1) * u_log\n",
    "    return final\n",
    "def g_1_derivative(u):\n",
    "    a_1 = 1\n",
    "    return np.tanh(a_1 * u)"
   ]
  },
  {
   "cell_type": "code",
   "execution_count": 178,
   "metadata": {},
   "outputs": [],
   "source": [
    "def g_2(u):\n",
    "    return -1 * np.exp(-1 * (u * u) / 2)\n",
    "def g_2_derivative(u):\n",
    "    return u * np.exp(-1 * (u * u) / 2)"
   ]
  },
  {
   "cell_type": "markdown",
   "metadata": {},
   "source": [
    "## Update Functions"
   ]
  },
  {
   "cell_type": "code",
   "execution_count": 179,
   "metadata": {},
   "outputs": [],
   "source": [
    "def g_1_expectation(w, x, t, sample_size):\n",
    "    indices = random.sample(range(t), sample_size)\n",
    "    values = x[:,indices] * g_1(w.dot(x[:,indices]))\n",
    "    values_sum = np.sum(x, axis=1)\n",
    "    values_mean = values_sum / sample_size\n",
    "    #values_mean = np.mean(values, axis=1)\n",
    "    return values_mean"
   ]
  },
  {
   "cell_type": "code",
   "execution_count": 180,
   "metadata": {},
   "outputs": [
    {
     "name": "stdout",
     "output_type": "stream",
     "text": [
      "[[ 0.84515425  0.16903085  0.50709255]\n",
      " [ 0.57735027  0.57735027  0.57735027]]\n",
      "0.57735026919\n"
     ]
    }
   ],
   "source": [
    "a = np.array([[ 5, 1 ,3], \n",
    "                  [ 1, 1 ,1]])\n",
    "b = np.array([1, 2])\n",
    "print(a / np.linalg.norm(a, axis=1)[np.newaxis,:].T)\n",
    "print(a[0,1] / np.linalg.norm(a, axis=1)[np.newaxis,:].T[1,0])\n",
    "#print(b.dot(a))\n",
    "#print(b[np.newaxis, :].T - b[np.newaxis, :].T * a)"
   ]
  },
  {
   "cell_type": "code",
   "execution_count": 181,
   "metadata": {},
   "outputs": [],
   "source": [
    "def g_1_derivative_expectation(w, x, t, sample_size):\n",
    "    indices = random.sample(range(t), sample_size)\n",
    "    values = g_1_derivative(w.dot(x[:,indices]))\n",
    "    final_value = np.mean(values, axis=1)\n",
    "    return final_value"
   ]
  },
  {
   "cell_type": "code",
   "execution_count": 182,
   "metadata": {},
   "outputs": [],
   "source": [
    "def update_w(w, x, t, sample_size):\n",
    "    g_exp = g_1_expectation(w, x, t, sample_size)\n",
    "    g_der_exp = g_1_derivative_expectation(w, x, t, sample_size)\n",
    "    #print(g_der_exp)\n",
    "    w_new = g_exp[np.newaxis,:].T - g_der_exp[np.newaxis,:].T * w\n",
    "    w_new = w_new / np.linalg.norm(w_new, axis=1)[np.newaxis,:].T\n",
    "    return w_new"
   ]
  },
  {
   "cell_type": "markdown",
   "metadata": {},
   "source": [
    "# Convergence Measures"
   ]
  },
  {
   "cell_type": "code",
   "execution_count": 183,
   "metadata": {},
   "outputs": [],
   "source": [
    "def w_has_converged(w, w_new, threshold):\n",
    "    s = 0\n",
    "    for i in range(w.shape[0]):\n",
    "        s = s + w[i,:].dot(w_new[i,:])\n",
    "    sum_altered = np.absolute(1-s)\n",
    "    if sum_altered <= threshold:\n",
    "        return sum_altered, s, True\n",
    "    return sum_altered, s, False"
   ]
  },
  {
   "cell_type": "markdown",
   "metadata": {},
   "source": [
    "# Data Preparation"
   ]
  },
  {
   "cell_type": "markdown",
   "metadata": {},
   "source": [
    "## Hyperparameters"
   ]
  },
  {
   "cell_type": "code",
   "execution_count": 184,
   "metadata": {},
   "outputs": [],
   "source": [
    "sample_size = 1000\n",
    "n = 2\n",
    "d = 2\n",
    "threshold = 0.01"
   ]
  },
  {
   "cell_type": "markdown",
   "metadata": {},
   "source": [
    "## Data Loading"
   ]
  },
  {
   "cell_type": "code",
   "execution_count": 185,
   "metadata": {},
   "outputs": [],
   "source": [
    "def center(z):\n",
    "    return z / np.mean(z)"
   ]
  },
  {
   "cell_type": "code",
   "execution_count": 186,
   "metadata": {},
   "outputs": [],
   "source": [
    "current_sample = 0\n",
    "rates = []\n",
    "data = []\n",
    "for i in range(n):\n",
    "    rate, dat = scipy.io.wavfile.read(data_paths[current_sample,i])\n",
    "    rates.append(rate)\n",
    "    \n",
    "    dat = center(dat)\n",
    "    data.append(dat)"
   ]
  },
  {
   "cell_type": "markdown",
   "metadata": {},
   "source": [
    "## Variables"
   ]
  },
  {
   "cell_type": "code",
   "execution_count": 187,
   "metadata": {},
   "outputs": [],
   "source": [
    "t = data[0].shape[0]\n",
    "x = np.zeros((n, t))\n",
    "                                              \n",
    "for i in range(n):\n",
    "    x[i,:] = data[i]\n",
    "    \n",
    "x = whiten(x)\n",
    "    \n",
    "w = np.random.rand(n, d)"
   ]
  },
  {
   "cell_type": "markdown",
   "metadata": {},
   "source": [
    "### Data Visualization"
   ]
  },
  {
   "cell_type": "code",
   "execution_count": 188,
   "metadata": {},
   "outputs": [
    {
     "data": {
      "image/png": "[encoded data removed]",
      "text/plain": [
       "<matplotlib.figure.Figure at 0x1c21f34be0>"
      ]
     },
     "metadata": {},
     "output_type": "display_data"
    }
   ],
   "source": [
    "time = x.shape[1]\n",
    "\n",
    "plt.figure(figsize=[8,6], dpi=150)\n",
    "plt.plot(range(time), x[0, :time])\n",
    "plt.ylabel(\"Signal\")\n",
    "plt.xlabel(\"Time\")\n",
    "plt.title(\"Signal Over Time\")\n",
    "plt.show()"
   ]
  },
  {
   "cell_type": "markdown",
   "metadata": {},
   "source": [
    "# Iterative Loop"
   ]
  },
  {
   "cell_type": "code",
   "execution_count": 189,
   "metadata": {},
   "outputs": [],
   "source": [
    "w_record = []\n",
    "dot_product_record = []\n",
    "loss_record = []"
   ]
  },
  {
   "cell_type": "code",
   "execution_count": 190,
   "metadata": {},
   "outputs": [
    {
     "name": "stderr",
     "output_type": "stream",
     "text": [
      "/Users/srivatsavpyda/anaconda/lib/python3.6/site-packages/ipykernel_launcher.py:3: RuntimeWarning: overflow encountered in cosh\n",
      "  This is separate from the ipykernel package so we can avoid doing imports until\n"
     ]
    },
    {
     "name": "stdout",
     "output_type": "stream",
     "text": [
      "Iteration 10 is starting\n",
      "Iteration 20 is starting\n",
      "Iteration 30 is starting\n",
      "Iteration 40 is starting\n",
      "Iteration 50 is starting\n",
      "Iteration 60 is starting\n",
      "Iteration 70 is starting\n",
      "Iteration 80 is starting\n",
      "Iteration 90 is starting\n",
      "Iteration 100 is starting\n",
      "Iteration 110 is starting\n",
      "Iteration 120 is starting\n",
      "Iteration 130 is starting\n",
      "Iteration 140 is starting\n",
      "Iteration 150 is starting\n",
      "Iteration 160 is starting\n",
      "Iteration 170 is starting\n",
      "Iteration 180 is starting\n",
      "Iteration 190 is starting\n",
      "Iteration 200 is starting\n",
      "Iteration 210 is starting\n",
      "Iteration 220 is starting\n",
      "Iteration 230 is starting\n",
      "Iteration 240 is starting\n",
      "Iteration 250 is starting\n",
      "Iteration 260 is starting\n",
      "Iteration 270 is starting\n",
      "Iteration 280 is starting\n",
      "Iteration 290 is starting\n",
      "Iteration 300 is starting\n",
      "Iteration 310 is starting\n",
      "Iteration 320 is starting\n",
      "Iteration 330 is starting\n",
      "Iteration 340 is starting\n",
      "Iteration 350 is starting\n",
      "Iteration 360 is starting\n",
      "Iteration 370 is starting\n",
      "Iteration 380 is starting\n",
      "Iteration 390 is starting\n",
      "Iteration 400 is starting\n",
      "Iteration 410 is starting\n",
      "Iteration 420 is starting\n",
      "Iteration 430 is starting\n",
      "Iteration 440 is starting\n",
      "Iteration 450 is starting\n",
      "Iteration 460 is starting\n",
      "Iteration 470 is starting\n",
      "Iteration 480 is starting\n",
      "Iteration 490 is starting\n",
      "Iteration 500 is starting\n",
      "Iteration 510 is starting\n",
      "Iteration 520 is starting\n",
      "Iteration 530 is starting\n",
      "Iteration 540 is starting\n",
      "Iteration 550 is starting\n",
      "Iteration 560 is starting\n",
      "Iteration 570 is starting\n",
      "Iteration 580 is starting\n",
      "Iteration 590 is starting\n",
      "Iteration 600 is starting\n",
      "Iteration 610 is starting\n",
      "Iteration 620 is starting\n",
      "Iteration 630 is starting\n",
      "Iteration 640 is starting\n",
      "Iteration 650 is starting\n",
      "Iteration 660 is starting\n",
      "Iteration 670 is starting\n",
      "Iteration 680 is starting\n",
      "Iteration 690 is starting\n",
      "Iteration 700 is starting\n",
      "Iteration 710 is starting\n",
      "Iteration 720 is starting\n",
      "Iteration 730 is starting\n",
      "Iteration 740 is starting\n",
      "Iteration 750 is starting\n",
      "Iteration 760 is starting\n",
      "Iteration 770 is starting\n",
      "Iteration 780 is starting\n",
      "Iteration 790 is starting\n",
      "Iteration 800 is starting\n",
      "Iteration 810 is starting\n",
      "Iteration 820 is starting\n",
      "Iteration 830 is starting\n",
      "Iteration 840 is starting\n",
      "Iteration 850 is starting\n",
      "Iteration 860 is starting\n",
      "Iteration 870 is starting\n",
      "Iteration 880 is starting\n",
      "Iteration 890 is starting\n",
      "Iteration 900 is starting\n",
      "Iteration 910 is starting\n",
      "Iteration 920 is starting\n",
      "Iteration 930 is starting\n",
      "Iteration 940 is starting\n",
      "Iteration 950 is starting\n",
      "Iteration 960 is starting\n",
      "Iteration 970 is starting\n",
      "Iteration 980 is starting\n",
      "Iteration 990 is starting\n",
      "Iteration 1000 is starting\n",
      "Iteration 1010 is starting\n",
      "Iteration 1020 is starting\n",
      "Iteration 1030 is starting\n",
      "Iteration 1040 is starting\n",
      "Iteration 1050 is starting\n",
      "Iteration 1060 is starting\n",
      "Iteration 1070 is starting\n",
      "Iteration 1080 is starting\n",
      "Iteration 1090 is starting\n",
      "Iteration 1100 is starting\n",
      "Iteration 1110 is starting\n",
      "Iteration 1120 is starting\n",
      "Iteration 1130 is starting\n",
      "Iteration 1140 is starting\n",
      "Iteration 1150 is starting\n",
      "Iteration 1160 is starting\n",
      "Iteration 1170 is starting\n",
      "Iteration 1180 is starting\n",
      "Iteration 1190 is starting\n",
      "Iteration 1200 is starting\n",
      "Iteration 1210 is starting\n",
      "Iteration 1220 is starting\n",
      "Iteration 1230 is starting\n",
      "Iteration 1240 is starting\n",
      "Iteration 1250 is starting\n",
      "Iteration 1260 is starting\n",
      "Iteration 1270 is starting\n",
      "Iteration 1280 is starting\n",
      "Iteration 1290 is starting\n",
      "Iteration 1300 is starting\n",
      "Iteration 1310 is starting\n",
      "Iteration 1320 is starting\n",
      "Iteration 1330 is starting\n",
      "Iteration 1340 is starting\n",
      "Iteration 1350 is starting\n",
      "Iteration 1360 is starting\n",
      "Iteration 1370 is starting\n",
      "Iteration 1380 is starting\n",
      "Iteration 1390 is starting\n",
      "Iteration 1400 is starting\n",
      "Iteration 1410 is starting\n",
      "Iteration 1420 is starting\n",
      "Iteration 1430 is starting\n",
      "Iteration 1440 is starting\n",
      "Iteration 1450 is starting\n",
      "Iteration 1460 is starting\n",
      "Iteration 1470 is starting\n",
      "Iteration 1480 is starting\n",
      "Iteration 1490 is starting\n",
      "Iteration 1500 is starting\n",
      "Iteration 1510 is starting\n",
      "Iteration 1520 is starting\n",
      "Iteration 1530 is starting\n",
      "Iteration 1540 is starting\n",
      "Iteration 1550 is starting\n",
      "Iteration 1560 is starting\n",
      "Iteration 1570 is starting\n",
      "Iteration 1580 is starting\n",
      "Iteration 1590 is starting\n",
      "Iteration 1600 is starting\n",
      "Iteration 1610 is starting\n",
      "Iteration 1620 is starting\n",
      "Iteration 1630 is starting\n",
      "Iteration 1640 is starting\n",
      "Iteration 1650 is starting\n",
      "Iteration 1660 is starting\n",
      "Iteration 1670 is starting\n",
      "Iteration 1680 is starting\n",
      "Iteration 1690 is starting\n",
      "Iteration 1700 is starting\n",
      "Iteration 1710 is starting\n",
      "Iteration 1720 is starting\n",
      "Iteration 1730 is starting\n",
      "Iteration 1740 is starting\n",
      "Iteration 1750 is starting\n",
      "Iteration 1760 is starting\n",
      "Iteration 1770 is starting\n",
      "Iteration 1780 is starting\n",
      "Iteration 1790 is starting\n",
      "Iteration 1800 is starting\n",
      "Iteration 1810 is starting\n",
      "Iteration 1820 is starting\n",
      "Iteration 1830 is starting\n",
      "Iteration 1840 is starting\n",
      "Iteration 1850 is starting\n",
      "Iteration 1860 is starting\n",
      "Iteration 1870 is starting\n",
      "Iteration 1880 is starting\n",
      "Iteration 1890 is starting\n",
      "Iteration 1900 is starting\n",
      "Iteration 1910 is starting\n",
      "Iteration 1920 is starting\n",
      "Iteration 1930 is starting\n",
      "Iteration 1940 is starting\n",
      "Iteration 1950 is starting\n",
      "Iteration 1960 is starting\n",
      "Iteration 1970 is starting\n",
      "Iteration 1980 is starting\n",
      "Iteration 1990 is starting\n",
      "Iteration 2000 is starting\n",
      "Iteration 2010 is starting\n",
      "Iteration 2020 is starting\n",
      "Iteration 2030 is starting\n",
      "Iteration 2040 is starting\n",
      "Iteration 2050 is starting\n",
      "Iteration 2060 is starting\n",
      "Iteration 2070 is starting\n",
      "Iteration 2080 is starting\n",
      "Iteration 2090 is starting\n",
      "Iteration 2100 is starting\n",
      "Iteration 2110 is starting\n"
     ]
    },
    {
     "ename": "KeyboardInterrupt",
     "evalue": "",
     "output_type": "error",
     "traceback": [
      "\u001b[0;31m---------------------------------------------------------------------------\u001b[0m",
      "\u001b[0;31mKeyboardInterrupt\u001b[0m                         Traceback (most recent call last)",
      "\u001b[0;32m<ipython-input-190-a679a92d581f>\u001b[0m in \u001b[0;36m<module>\u001b[0;34m()\u001b[0m\n\u001b[1;32m      4\u001b[0m         \u001b[0mprint\u001b[0m\u001b[0;34m(\u001b[0m\u001b[0;34m\"Iteration %d is starting\"\u001b[0m \u001b[0;34m%\u001b[0m \u001b[0mj\u001b[0m\u001b[0;34m)\u001b[0m\u001b[0;34m\u001b[0m\u001b[0m\n\u001b[1;32m      5\u001b[0m \u001b[0;34m\u001b[0m\u001b[0m\n\u001b[0;32m----> 6\u001b[0;31m     \u001b[0mw_new\u001b[0m \u001b[0;34m=\u001b[0m \u001b[0mupdate_w\u001b[0m\u001b[0;34m(\u001b[0m\u001b[0mw\u001b[0m\u001b[0;34m,\u001b[0m \u001b[0mx\u001b[0m\u001b[0;34m,\u001b[0m \u001b[0mt\u001b[0m\u001b[0;34m,\u001b[0m \u001b[0msample_size\u001b[0m\u001b[0;34m)\u001b[0m\u001b[0;34m\u001b[0m\u001b[0m\n\u001b[0m\u001b[1;32m      7\u001b[0m \u001b[0;34m\u001b[0m\u001b[0m\n\u001b[1;32m      8\u001b[0m     \u001b[0mloss\u001b[0m\u001b[0;34m,\u001b[0m \u001b[0mdot_product\u001b[0m\u001b[0;34m,\u001b[0m \u001b[0mhas_converged\u001b[0m \u001b[0;34m=\u001b[0m \u001b[0mw_has_converged\u001b[0m\u001b[0;34m(\u001b[0m\u001b[0mw\u001b[0m\u001b[0;34m,\u001b[0m \u001b[0mw_new\u001b[0m\u001b[0;34m,\u001b[0m \u001b[0mthreshold\u001b[0m\u001b[0;34m)\u001b[0m\u001b[0;34m\u001b[0m\u001b[0m\n",
      "\u001b[0;32m<ipython-input-182-0be93c3a4963>\u001b[0m in \u001b[0;36mupdate_w\u001b[0;34m(w, x, t, sample_size)\u001b[0m\n\u001b[1;32m      1\u001b[0m \u001b[0;32mdef\u001b[0m \u001b[0mupdate_w\u001b[0m\u001b[0;34m(\u001b[0m\u001b[0mw\u001b[0m\u001b[0;34m,\u001b[0m \u001b[0mx\u001b[0m\u001b[0;34m,\u001b[0m \u001b[0mt\u001b[0m\u001b[0;34m,\u001b[0m \u001b[0msample_size\u001b[0m\u001b[0;34m)\u001b[0m\u001b[0;34m:\u001b[0m\u001b[0;34m\u001b[0m\u001b[0m\n\u001b[0;32m----> 2\u001b[0;31m     \u001b[0mg_exp\u001b[0m \u001b[0;34m=\u001b[0m \u001b[0mg_1_expectation\u001b[0m\u001b[0;34m(\u001b[0m\u001b[0mw\u001b[0m\u001b[0;34m,\u001b[0m \u001b[0mx\u001b[0m\u001b[0;34m,\u001b[0m \u001b[0mt\u001b[0m\u001b[0;34m,\u001b[0m \u001b[0msample_size\u001b[0m\u001b[0;34m)\u001b[0m\u001b[0;34m\u001b[0m\u001b[0m\n\u001b[0m\u001b[1;32m      3\u001b[0m     \u001b[0mg_der_exp\u001b[0m \u001b[0;34m=\u001b[0m \u001b[0mg_1_derivative_expectation\u001b[0m\u001b[0;34m(\u001b[0m\u001b[0mw\u001b[0m\u001b[0;34m,\u001b[0m \u001b[0mx\u001b[0m\u001b[0;34m,\u001b[0m \u001b[0mt\u001b[0m\u001b[0;34m,\u001b[0m \u001b[0msample_size\u001b[0m\u001b[0;34m)\u001b[0m\u001b[0;34m\u001b[0m\u001b[0m\n\u001b[1;32m      4\u001b[0m     \u001b[0;31m#print(g_der_exp)\u001b[0m\u001b[0;34m\u001b[0m\u001b[0;34m\u001b[0m\u001b[0m\n\u001b[1;32m      5\u001b[0m     \u001b[0mw_new\u001b[0m \u001b[0;34m=\u001b[0m \u001b[0mg_exp\u001b[0m\u001b[0;34m[\u001b[0m\u001b[0mnp\u001b[0m\u001b[0;34m.\u001b[0m\u001b[0mnewaxis\u001b[0m\u001b[0;34m,\u001b[0m\u001b[0;34m:\u001b[0m\u001b[0;34m]\u001b[0m\u001b[0;34m.\u001b[0m\u001b[0mT\u001b[0m \u001b[0;34m-\u001b[0m \u001b[0mg_der_exp\u001b[0m\u001b[0;34m[\u001b[0m\u001b[0mnp\u001b[0m\u001b[0;34m.\u001b[0m\u001b[0mnewaxis\u001b[0m\u001b[0;34m,\u001b[0m\u001b[0;34m:\u001b[0m\u001b[0;34m]\u001b[0m\u001b[0;34m.\u001b[0m\u001b[0mT\u001b[0m \u001b[0;34m*\u001b[0m \u001b[0mw\u001b[0m\u001b[0;34m\u001b[0m\u001b[0m\n",
      "\u001b[0;32m<ipython-input-179-32d3100814c5>\u001b[0m in \u001b[0;36mg_1_expectation\u001b[0;34m(w, x, t, sample_size)\u001b[0m\n\u001b[1;32m      1\u001b[0m \u001b[0;32mdef\u001b[0m \u001b[0mg_1_expectation\u001b[0m\u001b[0;34m(\u001b[0m\u001b[0mw\u001b[0m\u001b[0;34m,\u001b[0m \u001b[0mx\u001b[0m\u001b[0;34m,\u001b[0m \u001b[0mt\u001b[0m\u001b[0;34m,\u001b[0m \u001b[0msample_size\u001b[0m\u001b[0;34m)\u001b[0m\u001b[0;34m:\u001b[0m\u001b[0;34m\u001b[0m\u001b[0m\n\u001b[0;32m----> 2\u001b[0;31m     \u001b[0mindices\u001b[0m \u001b[0;34m=\u001b[0m \u001b[0mrandom\u001b[0m\u001b[0;34m.\u001b[0m\u001b[0msample\u001b[0m\u001b[0;34m(\u001b[0m\u001b[0mrange\u001b[0m\u001b[0;34m(\u001b[0m\u001b[0mt\u001b[0m\u001b[0;34m)\u001b[0m\u001b[0;34m,\u001b[0m \u001b[0msample_size\u001b[0m\u001b[0;34m)\u001b[0m\u001b[0;34m\u001b[0m\u001b[0m\n\u001b[0m\u001b[1;32m      3\u001b[0m     \u001b[0mvalues\u001b[0m \u001b[0;34m=\u001b[0m \u001b[0mx\u001b[0m\u001b[0;34m[\u001b[0m\u001b[0;34m:\u001b[0m\u001b[0;34m,\u001b[0m\u001b[0mindices\u001b[0m\u001b[0;34m]\u001b[0m \u001b[0;34m*\u001b[0m \u001b[0mg_1\u001b[0m\u001b[0;34m(\u001b[0m\u001b[0mw\u001b[0m\u001b[0;34m.\u001b[0m\u001b[0mdot\u001b[0m\u001b[0;34m(\u001b[0m\u001b[0mx\u001b[0m\u001b[0;34m[\u001b[0m\u001b[0;34m:\u001b[0m\u001b[0;34m,\u001b[0m\u001b[0mindices\u001b[0m\u001b[0;34m]\u001b[0m\u001b[0;34m)\u001b[0m\u001b[0;34m)\u001b[0m\u001b[0;34m\u001b[0m\u001b[0m\n\u001b[1;32m      4\u001b[0m     \u001b[0mvalues_sum\u001b[0m \u001b[0;34m=\u001b[0m \u001b[0mnp\u001b[0m\u001b[0;34m.\u001b[0m\u001b[0msum\u001b[0m\u001b[0;34m(\u001b[0m\u001b[0mx\u001b[0m\u001b[0;34m,\u001b[0m \u001b[0maxis\u001b[0m\u001b[0;34m=\u001b[0m\u001b[0;36m1\u001b[0m\u001b[0;34m)\u001b[0m\u001b[0;34m\u001b[0m\u001b[0m\n\u001b[1;32m      5\u001b[0m     \u001b[0mvalues_mean\u001b[0m \u001b[0;34m=\u001b[0m \u001b[0mvalues_sum\u001b[0m \u001b[0;34m/\u001b[0m \u001b[0msample_size\u001b[0m\u001b[0;34m\u001b[0m\u001b[0m\n",
      "\u001b[0;32m/Users/srivatsavpyda/anaconda/lib/python3.6/random.py\u001b[0m in \u001b[0;36msample\u001b[0;34m(self, population, k)\u001b[0m\n\u001b[1;32m    331\u001b[0m             \u001b[0mselected_add\u001b[0m \u001b[0;34m=\u001b[0m \u001b[0mselected\u001b[0m\u001b[0;34m.\u001b[0m\u001b[0madd\u001b[0m\u001b[0;34m\u001b[0m\u001b[0m\n\u001b[1;32m    332\u001b[0m             \u001b[0;32mfor\u001b[0m \u001b[0mi\u001b[0m \u001b[0;32min\u001b[0m \u001b[0mrange\u001b[0m\u001b[0;34m(\u001b[0m\u001b[0mk\u001b[0m\u001b[0;34m)\u001b[0m\u001b[0;34m:\u001b[0m\u001b[0;34m\u001b[0m\u001b[0m\n\u001b[0;32m--> 333\u001b[0;31m                 \u001b[0mj\u001b[0m \u001b[0;34m=\u001b[0m \u001b[0mrandbelow\u001b[0m\u001b[0;34m(\u001b[0m\u001b[0mn\u001b[0m\u001b[0;34m)\u001b[0m\u001b[0;34m\u001b[0m\u001b[0m\n\u001b[0m\u001b[1;32m    334\u001b[0m                 \u001b[0;32mwhile\u001b[0m \u001b[0mj\u001b[0m \u001b[0;32min\u001b[0m \u001b[0mselected\u001b[0m\u001b[0;34m:\u001b[0m\u001b[0;34m\u001b[0m\u001b[0m\n\u001b[1;32m    335\u001b[0m                     \u001b[0mj\u001b[0m \u001b[0;34m=\u001b[0m \u001b[0mrandbelow\u001b[0m\u001b[0;34m(\u001b[0m\u001b[0mn\u001b[0m\u001b[0;34m)\u001b[0m\u001b[0;34m\u001b[0m\u001b[0m\n",
      "\u001b[0;32m/Users/srivatsavpyda/anaconda/lib/python3.6/random.py\u001b[0m in \u001b[0;36m_randbelow\u001b[0;34m(self, n, int, maxsize, type, Method, BuiltinMethod)\u001b[0m\n\u001b[1;32m    230\u001b[0m         \u001b[0;32mif\u001b[0m \u001b[0mtype\u001b[0m\u001b[0;34m(\u001b[0m\u001b[0mrandom\u001b[0m\u001b[0;34m)\u001b[0m \u001b[0;32mis\u001b[0m \u001b[0mBuiltinMethod\u001b[0m \u001b[0;32mor\u001b[0m \u001b[0mtype\u001b[0m\u001b[0;34m(\u001b[0m\u001b[0mgetrandbits\u001b[0m\u001b[0;34m)\u001b[0m \u001b[0;32mis\u001b[0m \u001b[0mMethod\u001b[0m\u001b[0;34m:\u001b[0m\u001b[0;34m\u001b[0m\u001b[0m\n\u001b[1;32m    231\u001b[0m             \u001b[0mk\u001b[0m \u001b[0;34m=\u001b[0m \u001b[0mn\u001b[0m\u001b[0;34m.\u001b[0m\u001b[0mbit_length\u001b[0m\u001b[0;34m(\u001b[0m\u001b[0;34m)\u001b[0m  \u001b[0;31m# don't use (n-1) here because n can be 1\u001b[0m\u001b[0;34m\u001b[0m\u001b[0m\n\u001b[0;32m--> 232\u001b[0;31m             \u001b[0mr\u001b[0m \u001b[0;34m=\u001b[0m \u001b[0mgetrandbits\u001b[0m\u001b[0;34m(\u001b[0m\u001b[0mk\u001b[0m\u001b[0;34m)\u001b[0m          \u001b[0;31m# 0 <= r < 2**k\u001b[0m\u001b[0;34m\u001b[0m\u001b[0m\n\u001b[0m\u001b[1;32m    233\u001b[0m             \u001b[0;32mwhile\u001b[0m \u001b[0mr\u001b[0m \u001b[0;34m>=\u001b[0m \u001b[0mn\u001b[0m\u001b[0;34m:\u001b[0m\u001b[0;34m\u001b[0m\u001b[0m\n\u001b[1;32m    234\u001b[0m                 \u001b[0mr\u001b[0m \u001b[0;34m=\u001b[0m \u001b[0mgetrandbits\u001b[0m\u001b[0;34m(\u001b[0m\u001b[0mk\u001b[0m\u001b[0;34m)\u001b[0m\u001b[0;34m\u001b[0m\u001b[0m\n",
      "\u001b[0;31mKeyboardInterrupt\u001b[0m: "
     ]
    }
   ],
   "source": [
    "j=1\n",
    "while(True):\n",
    "    if j % 10 == 0:\n",
    "        print(\"Iteration %d is starting\" % j)\n",
    "        \n",
    "    w_new = update_w(w, x, t, sample_size)\n",
    "\n",
    "    loss, dot_product, has_converged = w_has_converged(w, w_new, threshold)\n",
    "    \n",
    "    if has_converged:\n",
    "        print(\"here\")\n",
    "        break\n",
    "    w = w_new\n",
    "    w_record.append(w)\n",
    "    loss_record.append(loss)\n",
    "    dot_product_record.append(dot_product)\n",
    "    j = j + 1"
   ]
  },
  {
   "cell_type": "code",
   "execution_count": 170,
   "metadata": {},
   "outputs": [
    {
     "name": "stdout",
     "output_type": "stream",
     "text": [
      "3439\n"
     ]
    }
   ],
   "source": [
    "print(len(w_record))"
   ]
  },
  {
   "cell_type": "code",
   "execution_count": 191,
   "metadata": {},
   "outputs": [
    {
     "data": {
      "image/png": "[encoded data removed]",
      "text/plain": [
       "<matplotlib.figure.Figure at 0x1c21c29dd8>"
      ]
     },
     "metadata": {},
     "output_type": "display_data"
    }
   ],
   "source": [
    "plt.figure(figsize=[8,6], dpi=150)\n",
    "plt.plot(range(len(dot_product_record)), dot_product_record)\n",
    "plt.ylabel(\"Signal\")\n",
    "plt.xlabel(\"Time\")\n",
    "plt.title(\"Signal Over Time\")\n",
    "plt.show()"
   ]
  },
  {
   "cell_type": "code",
   "execution_count": 192,
   "metadata": {},
   "outputs": [
    {
     "name": "stdout",
     "output_type": "stream",
     "text": [
      "[-1.185357642765295, 1.9999999971909501, 1.9999999999999998, 1.9999999999999998, 2.0, 2.0000000000000004, 2.0, 2.0, 2.0, 1.9999999999999996, 1.9999999999999996, 1.9999999999999998, 1.9999999999999998, 1.9999999999999996, 2.0, 2.0, 1.9999999999999998, 2.0, 2.0, 1.9999999999999996, 1.9999999999999996, 1.9999999999999996, 2.0, 2.0000000000000004, 2.0000000000000004, 2.0, 2.0, 2.0000000000000004, 2.0, 2.0, 2.0000000000000004, 2.0, 1.9999999999999998, 2.0, 2.0, 2.0, 1.9999999999999998, 1.9999999999999998, 1.9999999999999998, 1.9999999999999996, 1.9999999999999996, 2.0, 2.0000000000000004, 2.0, 1.9999999999999998, 1.9999999999999996, 2.0, 2.0000000000000004, 2.0000000000000004, 2.0000000000000004, 2.0, 1.9999999999999996, 1.9999999999999998, 1.9999999999999998, 2.0, 2.0000000000000004, 2.0, 1.9999999999999998, 1.9999999999999998, 2.0, 1.9999999999999998, 1.9999999999999998, 1.9999999999999998, 2.0, 2.0000000000000004, 2.0, 2.0, 2.0, 2.0, 2.0, 2.0, 2.0000000000000004, 2.0, 2.0, 2.0, 2.0, 2.0, 2.0, 2.0000000000000004, 2.0, 2.0, 2.0000000000000004, 2.0, 2.0, 2.0, 1.9999999999999996, 1.9999999999999998, 1.9999999999999998, 2.0, 2.0000000000000004, 2.0000000000000004, 2.0, 2.0, 2.0000000000000004, 2.0000000000000004, 2.0, 1.9999999999999998, 2.0, 2.0000000000000004, 2.0000000000000004]\n"
     ]
    }
   ],
   "source": [
    "print(dot_product_record[:100])"
   ]
  },
  {
   "cell_type": "code",
   "execution_count": 193,
   "metadata": {},
   "outputs": [
    {
     "data": {
      "text/plain": [
       "[array([[-0.70715665, -0.70705691],\n",
       "        [-0.70708885, -0.70712471]]), array([[-0.70710678, -0.70710678],\n",
       "        [-0.70710678, -0.70710678]]), array([[-0.70710678, -0.70710678],\n",
       "        [-0.70710678, -0.70710678]]), array([[-0.70710678, -0.70710678],\n",
       "        [-0.70710678, -0.70710678]]), array([[-0.70710678, -0.70710678],\n",
       "        [-0.70710678, -0.70710678]]), array([[-0.70710678, -0.70710678],\n",
       "        [-0.70710678, -0.70710678]]), array([[-0.70710678, -0.70710678],\n",
       "        [-0.70710678, -0.70710678]]), array([[-0.70710678, -0.70710678],\n",
       "        [-0.70710678, -0.70710678]]), array([[-0.70710678, -0.70710678],\n",
       "        [-0.70710678, -0.70710678]]), array([[-0.70710678, -0.70710678],\n",
       "        [-0.70710678, -0.70710678]]), array([[-0.70710678, -0.70710678],\n",
       "        [-0.70710678, -0.70710678]]), array([[-0.70710678, -0.70710678],\n",
       "        [-0.70710678, -0.70710678]]), array([[-0.70710678, -0.70710678],\n",
       "        [-0.70710678, -0.70710678]]), array([[-0.70710678, -0.70710678],\n",
       "        [-0.70710678, -0.70710678]]), array([[-0.70710678, -0.70710678],\n",
       "        [-0.70710678, -0.70710678]]), array([[-0.70710678, -0.70710678],\n",
       "        [-0.70710678, -0.70710678]]), array([[-0.70710678, -0.70710678],\n",
       "        [-0.70710678, -0.70710678]]), array([[-0.70710678, -0.70710678],\n",
       "        [-0.70710678, -0.70710678]]), array([[-0.70710678, -0.70710678],\n",
       "        [-0.70710678, -0.70710678]]), array([[-0.70710678, -0.70710678],\n",
       "        [-0.70710678, -0.70710678]]), array([[-0.70710678, -0.70710678],\n",
       "        [-0.70710678, -0.70710678]]), array([[-0.70710678, -0.70710678],\n",
       "        [-0.70710678, -0.70710678]]), array([[-0.70710678, -0.70710678],\n",
       "        [-0.70710678, -0.70710678]]), array([[-0.70710678, -0.70710678],\n",
       "        [-0.70710678, -0.70710678]]), array([[-0.70710678, -0.70710678],\n",
       "        [-0.70710678, -0.70710678]]), array([[-0.70710678, -0.70710678],\n",
       "        [-0.70710678, -0.70710678]]), array([[-0.70710678, -0.70710678],\n",
       "        [-0.70710678, -0.70710678]]), array([[-0.70710678, -0.70710678],\n",
       "        [-0.70710678, -0.70710678]]), array([[-0.70710678, -0.70710678],\n",
       "        [-0.70710678, -0.70710678]]), array([[-0.70710678, -0.70710678],\n",
       "        [-0.70710678, -0.70710678]]), array([[-0.70710678, -0.70710678],\n",
       "        [-0.70710678, -0.70710678]]), array([[-0.70710678, -0.70710678],\n",
       "        [-0.70710678, -0.70710678]]), array([[-0.70710678, -0.70710678],\n",
       "        [-0.70710678, -0.70710678]]), array([[-0.70710678, -0.70710678],\n",
       "        [-0.70710678, -0.70710678]]), array([[-0.70710678, -0.70710678],\n",
       "        [-0.70710678, -0.70710678]]), array([[-0.70710678, -0.70710678],\n",
       "        [-0.70710678, -0.70710678]]), array([[-0.70710678, -0.70710678],\n",
       "        [-0.70710678, -0.70710678]]), array([[-0.70710678, -0.70710678],\n",
       "        [-0.70710678, -0.70710678]]), array([[-0.70710678, -0.70710678],\n",
       "        [-0.70710678, -0.70710678]]), array([[-0.70710678, -0.70710678],\n",
       "        [-0.70710678, -0.70710678]]), array([[-0.70710678, -0.70710678],\n",
       "        [-0.70710678, -0.70710678]]), array([[-0.70710678, -0.70710678],\n",
       "        [-0.70710678, -0.70710678]]), array([[-0.70710678, -0.70710678],\n",
       "        [-0.70710678, -0.70710678]]), array([[-0.70710678, -0.70710678],\n",
       "        [-0.70710678, -0.70710678]]), array([[-0.70710678, -0.70710678],\n",
       "        [-0.70710678, -0.70710678]]), array([[-0.70710678, -0.70710678],\n",
       "        [-0.70710678, -0.70710678]]), array([[-0.70710678, -0.70710678],\n",
       "        [-0.70710678, -0.70710678]]), array([[-0.70710678, -0.70710678],\n",
       "        [-0.70710678, -0.70710678]]), array([[-0.70710678, -0.70710678],\n",
       "        [-0.70710678, -0.70710678]]), array([[-0.70710678, -0.70710678],\n",
       "        [-0.70710678, -0.70710678]]), array([[-0.70710678, -0.70710678],\n",
       "        [-0.70710678, -0.70710678]]), array([[-0.70710678, -0.70710678],\n",
       "        [-0.70710678, -0.70710678]]), array([[-0.70710678, -0.70710678],\n",
       "        [-0.70710678, -0.70710678]]), array([[-0.70710678, -0.70710678],\n",
       "        [-0.70710678, -0.70710678]]), array([[-0.70710678, -0.70710678],\n",
       "        [-0.70710678, -0.70710678]]), array([[-0.70710678, -0.70710678],\n",
       "        [-0.70710678, -0.70710678]]), array([[-0.70710678, -0.70710678],\n",
       "        [-0.70710678, -0.70710678]]), array([[-0.70710678, -0.70710678],\n",
       "        [-0.70710678, -0.70710678]]), array([[-0.70710678, -0.70710678],\n",
       "        [-0.70710678, -0.70710678]]), array([[-0.70710678, -0.70710678],\n",
       "        [-0.70710678, -0.70710678]]), array([[-0.70710678, -0.70710678],\n",
       "        [-0.70710678, -0.70710678]]), array([[-0.70710678, -0.70710678],\n",
       "        [-0.70710678, -0.70710678]]), array([[-0.70710678, -0.70710678],\n",
       "        [-0.70710678, -0.70710678]]), array([[-0.70710678, -0.70710678],\n",
       "        [-0.70710678, -0.70710678]]), array([[-0.70710678, -0.70710678],\n",
       "        [-0.70710678, -0.70710678]]), array([[-0.70710678, -0.70710678],\n",
       "        [-0.70710678, -0.70710678]]), array([[-0.70710678, -0.70710678],\n",
       "        [-0.70710678, -0.70710678]]), array([[-0.70710678, -0.70710678],\n",
       "        [-0.70710678, -0.70710678]]), array([[-0.70710678, -0.70710678],\n",
       "        [-0.70710678, -0.70710678]]), array([[-0.70710678, -0.70710678],\n",
       "        [-0.70710678, -0.70710678]]), array([[-0.70710678, -0.70710678],\n",
       "        [-0.70710678, -0.70710678]]), array([[-0.70710678, -0.70710678],\n",
       "        [-0.70710678, -0.70710678]]), array([[-0.70710678, -0.70710678],\n",
       "        [-0.70710678, -0.70710678]]), array([[-0.70710678, -0.70710678],\n",
       "        [-0.70710678, -0.70710678]]), array([[-0.70710678, -0.70710678],\n",
       "        [-0.70710678, -0.70710678]]), array([[-0.70710678, -0.70710678],\n",
       "        [-0.70710678, -0.70710678]]), array([[-0.70710678, -0.70710678],\n",
       "        [-0.70710678, -0.70710678]]), array([[-0.70710678, -0.70710678],\n",
       "        [-0.70710678, -0.70710678]]), array([[-0.70710678, -0.70710678],\n",
       "        [-0.70710678, -0.70710678]]), array([[-0.70710678, -0.70710678],\n",
       "        [-0.70710678, -0.70710678]]), array([[-0.70710678, -0.70710678],\n",
       "        [-0.70710678, -0.70710678]]), array([[-0.70710678, -0.70710678],\n",
       "        [-0.70710678, -0.70710678]]), array([[-0.70710678, -0.70710678],\n",
       "        [-0.70710678, -0.70710678]]), array([[-0.70710678, -0.70710678],\n",
       "        [-0.70710678, -0.70710678]]), array([[-0.70710678, -0.70710678],\n",
       "        [-0.70710678, -0.70710678]]), array([[-0.70710678, -0.70710678],\n",
       "        [-0.70710678, -0.70710678]]), array([[-0.70710678, -0.70710678],\n",
       "        [-0.70710678, -0.70710678]]), array([[-0.70710678, -0.70710678],\n",
       "        [-0.70710678, -0.70710678]]), array([[-0.70710678, -0.70710678],\n",
       "        [-0.70710678, -0.70710678]]), array([[-0.70710678, -0.70710678],\n",
       "        [-0.70710678, -0.70710678]]), array([[-0.70710678, -0.70710678],\n",
       "        [-0.70710678, -0.70710678]]), array([[-0.70710678, -0.70710678],\n",
       "        [-0.70710678, -0.70710678]]), array([[-0.70710678, -0.70710678],\n",
       "        [-0.70710678, -0.70710678]]), array([[-0.70710678, -0.70710678],\n",
       "        [-0.70710678, -0.70710678]]), array([[-0.70710678, -0.70710678],\n",
       "        [-0.70710678, -0.70710678]]), array([[-0.70710678, -0.70710678],\n",
       "        [-0.70710678, -0.70710678]]), array([[-0.70710678, -0.70710678],\n",
       "        [-0.70710678, -0.70710678]]), array([[-0.70710678, -0.70710678],\n",
       "        [-0.70710678, -0.70710678]]), array([[-0.70710678, -0.70710678],\n",
       "        [-0.70710678, -0.70710678]]), array([[-0.70710678, -0.70710678],\n",
       "        [-0.70710678, -0.70710678]])]"
      ]
     },
     "execution_count": 193,
     "metadata": {},
     "output_type": "execute_result"
    }
   ],
   "source": [
    "w_record[:100]"
   ]
  },
  {
   "cell_type": "code",
   "execution_count": null,
   "metadata": {},
   "outputs": [],
   "source": []
  }
 ],
 "metadata": {
  "kernelspec": {
   "display_name": "Python 3",
   "language": "python",
   "name": "python3"
  },
  "language_info": {
   "codemirror_mode": {
    "name": "ipython",
    "version": 3
   },
   "file_extension": ".py",
   "mimetype": "text/x-python",
   "name": "python",
   "nbconvert_exporter": "python",
   "pygments_lexer": "ipython3",
   "version": "3.6.1"
  }
 },
 "nbformat": 4,
 "nbformat_minor": 2
}
